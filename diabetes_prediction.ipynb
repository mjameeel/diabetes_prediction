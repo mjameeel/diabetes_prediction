{
 "cells": [
  {
   "cell_type": "markdown",
   "id": "d3b7b4a9",
   "metadata": {},
   "source": [
    "<h1 align=center>DIABETES PREDICTION</h1>\n",
    "<h4 align=center> By Muhammad Jamil Abdulhamid  FE/23/22684843 </h4>\n",
    "\n",
    "<img src=\"diabetes-1270350_1280.jpg\" alt=\"stop_diabetes\" >\n",
    "<h4 align-left>Image by <a href=\"https://pixabay.com/users/nneem-1611501/?utm_source=link-attribution&utm_medium=referral&utm_campaign=image&utm_content=1270350\">nneem</a> from <a href=\"https://pixabay.com//?utm_source=link-attribution&utm_medium=referral&utm_campaign=image&utm_content=1270350\">Pixabay</a>\n",
    "\n",
    "## Table of Contents\n",
    "<ul>\n",
    "<li><a href=\"#intro\"> 1. Introduction</a></li>\n",
    "<li><a href=\"#eda\">2. Exploratory Data Analysis</a></li>\n",
    "<li><a href=\"#model\">3. Model Selection and Evaluation</a></li>\n",
    "<li><a href=\"#conclusions\">4. Conclusions</a></li>\n",
    "<li><a href=\"#ref\">5. References</a></li>\n",
    "</ul>\n",
    "\n",
    "<div id='intro'></div>\n",
    "\n",
    "## 1. Introduction\n",
    "\n",
    "According to world health organization (WHO), there is a growing number of people that are diagnosed with diabetes. The ability to predict a diabetes based on certain features will help in early detection. In this project, a Random Forest Regressor was deployed to build, and test a model to predict the whether a patient will be diagnosed diabetic or not diabetic based on several features in the data sets."
   ]
  },
  {
   "cell_type": "markdown",
   "id": "4ae956e8",
   "metadata": {},
   "source": [
    "### 1.1 About the data\n",
    "\n",
    "The data was obtained on kaggle website, ([here](https://www.kaggle.com/datasets/mrsimple07/diabetes-prediction))."
   ]
  },
  {
   "cell_type": "markdown",
   "id": "9e4e9922",
   "metadata": {},
   "source": [
    "### 1.2 Import libraries\n",
    "\n",
    "The following dependencies will be used for the project."
   ]
  },
  {
   "cell_type": "code",
   "execution_count": 1,
   "id": "e53ceb44",
   "metadata": {},
   "outputs": [],
   "source": [
    "import numpy as np # linear algebra\n",
    "import pandas as pd # data processing, CSV file I/O (e.g. pd.read_csv)\n",
    "import matplotlib.pyplot as plt # for visualition\n",
    "from sklearn.model_selection import train_test_split, GridSearchCV\n",
    "from sklearn.ensemble import RandomForestClassifier # machine learning algorithm\n",
    "from sklearn.metrics import accuracy_score # for evaluation\n",
    "import pickle # for saving and loading model"
   ]
  },
  {
   "cell_type": "markdown",
   "id": "7bec4614",
   "metadata": {},
   "source": [
    "### 1.3 Load data\n",
    "\n",
    "The data will be loaded into a pandas dataframe."
   ]
  },
  {
   "cell_type": "code",
   "execution_count": 2,
   "id": "89de2dd1",
   "metadata": {},
   "outputs": [
    {
     "name": "stdout",
     "output_type": "stream",
     "text": [
      "shape of df_train (1000, 9)\n"
     ]
    },
    {
     "data": {
      "text/html": [
       "<div>\n",
       "<style scoped>\n",
       "    .dataframe tbody tr th:only-of-type {\n",
       "        vertical-align: middle;\n",
       "    }\n",
       "\n",
       "    .dataframe tbody tr th {\n",
       "        vertical-align: top;\n",
       "    }\n",
       "\n",
       "    .dataframe thead th {\n",
       "        text-align: right;\n",
       "    }\n",
       "</style>\n",
       "<table border=\"1\" class=\"dataframe\">\n",
       "  <thead>\n",
       "    <tr style=\"text-align: right;\">\n",
       "      <th></th>\n",
       "      <th>Pregnancies</th>\n",
       "      <th>Glucose</th>\n",
       "      <th>BloodPressure</th>\n",
       "      <th>SkinThickness</th>\n",
       "      <th>Insulin</th>\n",
       "      <th>BMI</th>\n",
       "      <th>DiabetesPedigreeFunction</th>\n",
       "      <th>Age</th>\n",
       "      <th>Diagnosis</th>\n",
       "    </tr>\n",
       "  </thead>\n",
       "  <tbody>\n",
       "    <tr>\n",
       "      <th>0</th>\n",
       "      <td>2</td>\n",
       "      <td>115.863387</td>\n",
       "      <td>56.410731</td>\n",
       "      <td>24.336736</td>\n",
       "      <td>94.385783</td>\n",
       "      <td>26.455940</td>\n",
       "      <td>0.272682</td>\n",
       "      <td>20.100494</td>\n",
       "      <td>0</td>\n",
       "    </tr>\n",
       "    <tr>\n",
       "      <th>1</th>\n",
       "      <td>2</td>\n",
       "      <td>92.490122</td>\n",
       "      <td>70.615520</td>\n",
       "      <td>23.443591</td>\n",
       "      <td>138.652426</td>\n",
       "      <td>23.910167</td>\n",
       "      <td>0.665160</td>\n",
       "      <td>44.912281</td>\n",
       "      <td>0</td>\n",
       "    </tr>\n",
       "    <tr>\n",
       "      <th>2</th>\n",
       "      <td>1</td>\n",
       "      <td>88.141469</td>\n",
       "      <td>63.262618</td>\n",
       "      <td>23.404364</td>\n",
       "      <td>149.358082</td>\n",
       "      <td>21.948250</td>\n",
       "      <td>0.676022</td>\n",
       "      <td>48.247873</td>\n",
       "      <td>1</td>\n",
       "    </tr>\n",
       "    <tr>\n",
       "      <th>3</th>\n",
       "      <td>2</td>\n",
       "      <td>108.453101</td>\n",
       "      <td>67.793632</td>\n",
       "      <td>20.751580</td>\n",
       "      <td>108.751638</td>\n",
       "      <td>24.209304</td>\n",
       "      <td>0.289636</td>\n",
       "      <td>42.749868</td>\n",
       "      <td>0</td>\n",
       "    </tr>\n",
       "    <tr>\n",
       "      <th>4</th>\n",
       "      <td>1</td>\n",
       "      <td>127.849443</td>\n",
       "      <td>94.725685</td>\n",
       "      <td>22.603078</td>\n",
       "      <td>25.269987</td>\n",
       "      <td>32.997477</td>\n",
       "      <td>0.601315</td>\n",
       "      <td>32.797789</td>\n",
       "      <td>0</td>\n",
       "    </tr>\n",
       "  </tbody>\n",
       "</table>\n",
       "</div>"
      ],
      "text/plain": [
       "   Pregnancies     Glucose  BloodPressure  SkinThickness     Insulin  \\\n",
       "0            2  115.863387      56.410731      24.336736   94.385783   \n",
       "1            2   92.490122      70.615520      23.443591  138.652426   \n",
       "2            1   88.141469      63.262618      23.404364  149.358082   \n",
       "3            2  108.453101      67.793632      20.751580  108.751638   \n",
       "4            1  127.849443      94.725685      22.603078   25.269987   \n",
       "\n",
       "         BMI  DiabetesPedigreeFunction        Age  Diagnosis  \n",
       "0  26.455940                  0.272682  20.100494          0  \n",
       "1  23.910167                  0.665160  44.912281          0  \n",
       "2  21.948250                  0.676022  48.247873          1  \n",
       "3  24.209304                  0.289636  42.749868          0  \n",
       "4  32.997477                  0.601315  32.797789          0  "
      ]
     },
     "execution_count": 2,
     "metadata": {},
     "output_type": "execute_result"
    }
   ],
   "source": [
    "df_diab = pd.read_csv(\"Diabetes_prediction.csv\")\n",
    "\n",
    "print('shape of df_train', df_diab.shape)\n",
    "df_diab.head()"
   ]
  },
  {
   "cell_type": "markdown",
   "id": "a38b1bbc",
   "metadata": {},
   "source": [
    " import data\n",
    " clean data\n",
    " split\n",
    " create model\n",
    " train model\n",
    " predict\n",
    " evaluate"
   ]
  },
  {
   "cell_type": "markdown",
   "id": "e5104067",
   "metadata": {},
   "source": [
    "### 1.4 Clean data\n",
    "\n",
    "In this section, the data will be inspected and cleaned where necessary."
   ]
  },
  {
   "cell_type": "code",
   "execution_count": 3,
   "id": "7562f8ff",
   "metadata": {},
   "outputs": [
    {
     "data": {
      "text/html": [
       "<div>\n",
       "<style scoped>\n",
       "    .dataframe tbody tr th:only-of-type {\n",
       "        vertical-align: middle;\n",
       "    }\n",
       "\n",
       "    .dataframe tbody tr th {\n",
       "        vertical-align: top;\n",
       "    }\n",
       "\n",
       "    .dataframe thead th {\n",
       "        text-align: right;\n",
       "    }\n",
       "</style>\n",
       "<table border=\"1\" class=\"dataframe\">\n",
       "  <thead>\n",
       "    <tr style=\"text-align: right;\">\n",
       "      <th></th>\n",
       "      <th>Pregnancies</th>\n",
       "      <th>Glucose</th>\n",
       "      <th>BloodPressure</th>\n",
       "      <th>SkinThickness</th>\n",
       "      <th>Insulin</th>\n",
       "      <th>BMI</th>\n",
       "      <th>DiabetesPedigreeFunction</th>\n",
       "      <th>Age</th>\n",
       "      <th>Diagnosis</th>\n",
       "    </tr>\n",
       "  </thead>\n",
       "  <tbody>\n",
       "    <tr>\n",
       "      <th>count</th>\n",
       "      <td>1000.000000</td>\n",
       "      <td>1000.000000</td>\n",
       "      <td>1000.000000</td>\n",
       "      <td>1000.000000</td>\n",
       "      <td>1000.000000</td>\n",
       "      <td>1000.000000</td>\n",
       "      <td>1000.000000</td>\n",
       "      <td>1000.000000</td>\n",
       "      <td>1000.00000</td>\n",
       "    </tr>\n",
       "    <tr>\n",
       "      <th>mean</th>\n",
       "      <td>1.771000</td>\n",
       "      <td>99.440607</td>\n",
       "      <td>72.179837</td>\n",
       "      <td>23.278316</td>\n",
       "      <td>84.582679</td>\n",
       "      <td>25.433600</td>\n",
       "      <td>0.449383</td>\n",
       "      <td>43.281798</td>\n",
       "      <td>0.30600</td>\n",
       "    </tr>\n",
       "    <tr>\n",
       "      <th>std</th>\n",
       "      <td>1.354398</td>\n",
       "      <td>19.470730</td>\n",
       "      <td>13.882017</td>\n",
       "      <td>1.173807</td>\n",
       "      <td>74.872733</td>\n",
       "      <td>3.690223</td>\n",
       "      <td>0.199334</td>\n",
       "      <td>14.465398</td>\n",
       "      <td>0.46106</td>\n",
       "    </tr>\n",
       "    <tr>\n",
       "      <th>min</th>\n",
       "      <td>0.000000</td>\n",
       "      <td>30.571402</td>\n",
       "      <td>31.401487</td>\n",
       "      <td>19.369987</td>\n",
       "      <td>-165.310033</td>\n",
       "      <td>13.548818</td>\n",
       "      <td>0.100037</td>\n",
       "      <td>-0.979804</td>\n",
       "      <td>0.00000</td>\n",
       "    </tr>\n",
       "    <tr>\n",
       "      <th>25%</th>\n",
       "      <td>1.000000</td>\n",
       "      <td>86.145927</td>\n",
       "      <td>62.795447</td>\n",
       "      <td>22.501591</td>\n",
       "      <td>35.076535</td>\n",
       "      <td>23.022715</td>\n",
       "      <td>0.283376</td>\n",
       "      <td>33.518451</td>\n",
       "      <td>0.00000</td>\n",
       "    </tr>\n",
       "    <tr>\n",
       "      <th>50%</th>\n",
       "      <td>2.000000</td>\n",
       "      <td>99.458362</td>\n",
       "      <td>71.909588</td>\n",
       "      <td>23.275225</td>\n",
       "      <td>84.442232</td>\n",
       "      <td>25.455649</td>\n",
       "      <td>0.448219</td>\n",
       "      <td>43.634273</td>\n",
       "      <td>0.00000</td>\n",
       "    </tr>\n",
       "    <tr>\n",
       "      <th>75%</th>\n",
       "      <td>3.000000</td>\n",
       "      <td>113.264556</td>\n",
       "      <td>82.082660</td>\n",
       "      <td>24.052022</td>\n",
       "      <td>134.267842</td>\n",
       "      <td>27.972184</td>\n",
       "      <td>0.619158</td>\n",
       "      <td>53.098446</td>\n",
       "      <td>1.00000</td>\n",
       "    </tr>\n",
       "    <tr>\n",
       "      <th>max</th>\n",
       "      <td>8.000000</td>\n",
       "      <td>161.238939</td>\n",
       "      <td>110.723715</td>\n",
       "      <td>26.917654</td>\n",
       "      <td>317.701852</td>\n",
       "      <td>36.324598</td>\n",
       "      <td>0.799654</td>\n",
       "      <td>90.573782</td>\n",
       "      <td>1.00000</td>\n",
       "    </tr>\n",
       "  </tbody>\n",
       "</table>\n",
       "</div>"
      ],
      "text/plain": [
       "       Pregnancies      Glucose  BloodPressure  SkinThickness      Insulin  \\\n",
       "count  1000.000000  1000.000000    1000.000000    1000.000000  1000.000000   \n",
       "mean      1.771000    99.440607      72.179837      23.278316    84.582679   \n",
       "std       1.354398    19.470730      13.882017       1.173807    74.872733   \n",
       "min       0.000000    30.571402      31.401487      19.369987  -165.310033   \n",
       "25%       1.000000    86.145927      62.795447      22.501591    35.076535   \n",
       "50%       2.000000    99.458362      71.909588      23.275225    84.442232   \n",
       "75%       3.000000   113.264556      82.082660      24.052022   134.267842   \n",
       "max       8.000000   161.238939     110.723715      26.917654   317.701852   \n",
       "\n",
       "               BMI  DiabetesPedigreeFunction          Age   Diagnosis  \n",
       "count  1000.000000               1000.000000  1000.000000  1000.00000  \n",
       "mean     25.433600                  0.449383    43.281798     0.30600  \n",
       "std       3.690223                  0.199334    14.465398     0.46106  \n",
       "min      13.548818                  0.100037    -0.979804     0.00000  \n",
       "25%      23.022715                  0.283376    33.518451     0.00000  \n",
       "50%      25.455649                  0.448219    43.634273     0.00000  \n",
       "75%      27.972184                  0.619158    53.098446     1.00000  \n",
       "max      36.324598                  0.799654    90.573782     1.00000  "
      ]
     },
     "execution_count": 3,
     "metadata": {},
     "output_type": "execute_result"
    }
   ],
   "source": [
    "# Descriptive stats of df\n",
    "df_diab.describe()"
   ]
  },
  {
   "cell_type": "code",
   "execution_count": 4,
   "id": "ffd7bb46",
   "metadata": {},
   "outputs": [
    {
     "data": {
      "text/plain": [
       "Pregnancies                 0\n",
       "Glucose                     0\n",
       "BloodPressure               0\n",
       "SkinThickness               0\n",
       "Insulin                     0\n",
       "BMI                         0\n",
       "DiabetesPedigreeFunction    0\n",
       "Age                         0\n",
       "Diagnosis                   0\n",
       "dtype: int64"
      ]
     },
     "execution_count": 4,
     "metadata": {},
     "output_type": "execute_result"
    }
   ],
   "source": [
    "# Check for missing values\n",
    "df_diab.isnull().sum()"
   ]
  },
  {
   "cell_type": "markdown",
   "id": "158c91d9",
   "metadata": {},
   "source": [
    "There are no missing data."
   ]
  },
  {
   "cell_type": "code",
   "execution_count": 5,
   "id": "cd6a9969",
   "metadata": {},
   "outputs": [],
   "source": [
    "# Remove ages that are not upto 1 \n",
    "df_diab = df_diab[(df_diab['Age'] > 0)]"
   ]
  },
  {
   "cell_type": "code",
   "execution_count": 6,
   "id": "b8dc8c93",
   "metadata": {},
   "outputs": [
    {
     "data": {
      "text/html": [
       "<div>\n",
       "<style scoped>\n",
       "    .dataframe tbody tr th:only-of-type {\n",
       "        vertical-align: middle;\n",
       "    }\n",
       "\n",
       "    .dataframe tbody tr th {\n",
       "        vertical-align: top;\n",
       "    }\n",
       "\n",
       "    .dataframe thead th {\n",
       "        text-align: right;\n",
       "    }\n",
       "</style>\n",
       "<table border=\"1\" class=\"dataframe\">\n",
       "  <thead>\n",
       "    <tr style=\"text-align: right;\">\n",
       "      <th></th>\n",
       "      <th>Pregnancies</th>\n",
       "      <th>Glucose</th>\n",
       "      <th>BloodPressure</th>\n",
       "      <th>SkinThickness</th>\n",
       "      <th>Insulin</th>\n",
       "      <th>BMI</th>\n",
       "      <th>DiabetesPedigreeFunction</th>\n",
       "      <th>Age</th>\n",
       "      <th>Diagnosis</th>\n",
       "    </tr>\n",
       "  </thead>\n",
       "  <tbody>\n",
       "    <tr>\n",
       "      <th>count</th>\n",
       "      <td>998.000000</td>\n",
       "      <td>998.000000</td>\n",
       "      <td>998.000000</td>\n",
       "      <td>998.000000</td>\n",
       "      <td>998.000000</td>\n",
       "      <td>998.000000</td>\n",
       "      <td>998.000000</td>\n",
       "      <td>998.000000</td>\n",
       "      <td>998.000000</td>\n",
       "    </tr>\n",
       "    <tr>\n",
       "      <th>mean</th>\n",
       "      <td>1.773547</td>\n",
       "      <td>99.423058</td>\n",
       "      <td>72.168273</td>\n",
       "      <td>23.277974</td>\n",
       "      <td>84.584162</td>\n",
       "      <td>25.423563</td>\n",
       "      <td>0.449630</td>\n",
       "      <td>43.370151</td>\n",
       "      <td>0.305611</td>\n",
       "    </tr>\n",
       "    <tr>\n",
       "      <th>std</th>\n",
       "      <td>1.354372</td>\n",
       "      <td>19.482648</td>\n",
       "      <td>13.881726</td>\n",
       "      <td>1.174221</td>\n",
       "      <td>74.947225</td>\n",
       "      <td>3.678979</td>\n",
       "      <td>0.199376</td>\n",
       "      <td>14.344350</td>\n",
       "      <td>0.460897</td>\n",
       "    </tr>\n",
       "    <tr>\n",
       "      <th>min</th>\n",
       "      <td>0.000000</td>\n",
       "      <td>30.571402</td>\n",
       "      <td>31.401487</td>\n",
       "      <td>19.369987</td>\n",
       "      <td>-165.310033</td>\n",
       "      <td>13.548818</td>\n",
       "      <td>0.100037</td>\n",
       "      <td>2.082077</td>\n",
       "      <td>0.000000</td>\n",
       "    </tr>\n",
       "    <tr>\n",
       "      <th>25%</th>\n",
       "      <td>1.000000</td>\n",
       "      <td>86.123869</td>\n",
       "      <td>62.781086</td>\n",
       "      <td>22.498862</td>\n",
       "      <td>34.808113</td>\n",
       "      <td>23.017933</td>\n",
       "      <td>0.283851</td>\n",
       "      <td>33.565751</td>\n",
       "      <td>0.000000</td>\n",
       "    </tr>\n",
       "    <tr>\n",
       "      <th>50%</th>\n",
       "      <td>2.000000</td>\n",
       "      <td>99.279249</td>\n",
       "      <td>71.909588</td>\n",
       "      <td>23.275225</td>\n",
       "      <td>84.442232</td>\n",
       "      <td>25.455649</td>\n",
       "      <td>0.448219</td>\n",
       "      <td>43.644349</td>\n",
       "      <td>0.000000</td>\n",
       "    </tr>\n",
       "    <tr>\n",
       "      <th>75%</th>\n",
       "      <td>3.000000</td>\n",
       "      <td>113.188858</td>\n",
       "      <td>82.016230</td>\n",
       "      <td>24.050519</td>\n",
       "      <td>134.313111</td>\n",
       "      <td>27.970606</td>\n",
       "      <td>0.619229</td>\n",
       "      <td>53.099550</td>\n",
       "      <td>1.000000</td>\n",
       "    </tr>\n",
       "    <tr>\n",
       "      <th>max</th>\n",
       "      <td>8.000000</td>\n",
       "      <td>161.238939</td>\n",
       "      <td>110.723715</td>\n",
       "      <td>26.917654</td>\n",
       "      <td>317.701852</td>\n",
       "      <td>36.324598</td>\n",
       "      <td>0.799654</td>\n",
       "      <td>90.573782</td>\n",
       "      <td>1.000000</td>\n",
       "    </tr>\n",
       "  </tbody>\n",
       "</table>\n",
       "</div>"
      ],
      "text/plain": [
       "       Pregnancies     Glucose  BloodPressure  SkinThickness     Insulin  \\\n",
       "count   998.000000  998.000000     998.000000     998.000000  998.000000   \n",
       "mean      1.773547   99.423058      72.168273      23.277974   84.584162   \n",
       "std       1.354372   19.482648      13.881726       1.174221   74.947225   \n",
       "min       0.000000   30.571402      31.401487      19.369987 -165.310033   \n",
       "25%       1.000000   86.123869      62.781086      22.498862   34.808113   \n",
       "50%       2.000000   99.279249      71.909588      23.275225   84.442232   \n",
       "75%       3.000000  113.188858      82.016230      24.050519  134.313111   \n",
       "max       8.000000  161.238939     110.723715      26.917654  317.701852   \n",
       "\n",
       "              BMI  DiabetesPedigreeFunction         Age   Diagnosis  \n",
       "count  998.000000                998.000000  998.000000  998.000000  \n",
       "mean    25.423563                  0.449630   43.370151    0.305611  \n",
       "std      3.678979                  0.199376   14.344350    0.460897  \n",
       "min     13.548818                  0.100037    2.082077    0.000000  \n",
       "25%     23.017933                  0.283851   33.565751    0.000000  \n",
       "50%     25.455649                  0.448219   43.644349    0.000000  \n",
       "75%     27.970606                  0.619229   53.099550    1.000000  \n",
       "max     36.324598                  0.799654   90.573782    1.000000  "
      ]
     },
     "execution_count": 6,
     "metadata": {},
     "output_type": "execute_result"
    }
   ],
   "source": [
    "# Inspect dataframe\n",
    "df_diab.describe()"
   ]
  },
  {
   "cell_type": "markdown",
   "id": "6da41392",
   "metadata": {},
   "source": [
    "<div id='eda'></div>\n",
    "\n",
    "## 2. Exploratory Data Analysis"
   ]
  },
  {
   "cell_type": "code",
   "execution_count": 7,
   "id": "afd4438f",
   "metadata": {},
   "outputs": [
    {
     "data": {
      "image/png": "[encoded data removed]",
      "text/plain": [
       "<Figure size 1152x1440 with 9 Axes>"
      ]
     },
     "metadata": {
      "needs_background": "light"
     },
     "output_type": "display_data"
    }
   ],
   "source": [
    "# Explore features of dataset\n",
    "df_diab.hist(figsize=(16, 20), bins=50, xlabelsize=8, ylabelsize=8);"
   ]
  },
  {
   "cell_type": "code",
   "execution_count": 8,
   "id": "36e563fd",
   "metadata": {},
   "outputs": [
    {
     "data": {
      "image/png": "[encoded data removed]",
      "text/plain": [
       "<Figure size 432x288 with 1 Axes>"
      ]
     },
     "metadata": {
      "needs_background": "light"
     },
     "output_type": "display_data"
    }
   ],
   "source": [
    "# Plot class balance\n",
    "df_diab[\"Diagnosis\"].value_counts(normalize=True).plot(\n",
    "    kind=\"bar\",\n",
    "    xlabel=\"Diagnosis\",\n",
    "    ylabel=\"Frequency\",\n",
    "    title='Class balance'\n",
    ");"
   ]
  },
  {
   "cell_type": "markdown",
   "id": "f0228652",
   "metadata": {},
   "source": [
    "<div id='model'></div>\n",
    "\n",
    "## 3. Model Selection and Evaluation"
   ]
  },
  {
   "cell_type": "markdown",
   "id": "7f4fbb6e",
   "metadata": {},
   "source": [
    "### 3.1 Split"
   ]
  },
  {
   "cell_type": "code",
   "execution_count": 9,
   "id": "10a27974",
   "metadata": {},
   "outputs": [
    {
     "name": "stdout",
     "output_type": "stream",
     "text": [
      "X shape: (998, 8)\n",
      "y shape: (998,)\n"
     ]
    }
   ],
   "source": [
    "# Split data into feature matrix `X` and target vector `y`.\n",
    "Target = \"Diagnosis\"\n",
    "X = df_diab.drop(columns=Target)\n",
    "y = df_diab[Target]\n",
    "print(\"X shape:\", X.shape)\n",
    "print(\"y shape:\", y.shape)"
   ]
  },
  {
   "cell_type": "code",
   "execution_count": 10,
   "id": "01ae2743",
   "metadata": {},
   "outputs": [
    {
     "name": "stdout",
     "output_type": "stream",
     "text": [
      "X_train shape: (798, 8)\n",
      "y_train shape: (798,)\n",
      "X_val shape: (200, 8)\n",
      "y_val shape: (200,)\n"
     ]
    }
   ],
   "source": [
    "# Train and Test split\n",
    "X_train, X_test, y_train, y_test = train_test_split(\n",
    "    X, y, test_size=0.2, random_state=42\n",
    ")\n",
    "print(\"X_train shape:\", X_train.shape)\n",
    "print(\"y_train shape:\", y_train.shape)\n",
    "print(\"X_val shape:\", X_test.shape)\n",
    "print(\"y_val shape:\", y_test.shape)"
   ]
  },
  {
   "cell_type": "markdown",
   "id": "c2ec28ec",
   "metadata": {},
   "source": [
    "### 3.2 Build model"
   ]
  },
  {
   "cell_type": "code",
   "execution_count": 11,
   "id": "c5e10004",
   "metadata": {},
   "outputs": [],
   "source": [
    "# Number of trees in random forest \n",
    "n_estimators = [int(x) for x in np.linspace(start = 10, stop = 80, num = 10)]\n",
    "# Number of features to consider at every  split\n",
    "max_features = ['auto', 'sqrt']\n",
    "# Maximum number of levels in tree\n",
    "max_depth = [2, 4]\n",
    "# Minimum number of samples required to split a node\n",
    "min_samples_split = [2, 5]\n",
    "# Minimum number of samples required at each leaf node\n",
    "min_samples_leaf = [1, 2]\n",
    "# Method of selecting samples for training each tree\n",
    "bootstrap = [True, False]"
   ]
  },
  {
   "cell_type": "code",
   "execution_count": 12,
   "id": "24bc0182",
   "metadata": {},
   "outputs": [
    {
     "name": "stdout",
     "output_type": "stream",
     "text": [
      "{'n_estimators': [10, 17, 25, 33, 41, 48, 56, 64, 72, 80], 'max_features': ['auto', 'sqrt'], 'max_depth': [2, 4], 'min_samples_split': [2, 5], 'min_samples_leaf': [1, 2], 'bootstrap': [True, False]}\n"
     ]
    }
   ],
   "source": [
    "# Create param grid\n",
    "param_grid = {\n",
    "    'n_estimators': n_estimators,\n",
    "    'max_features': max_features,\n",
    "    'max_depth': max_depth,\n",
    "    'min_samples_split': min_samples_split,\n",
    "    'min_samples_leaf': min_samples_leaf,\n",
    "    'bootstrap': bootstrap\n",
    "    \n",
    "}\n",
    "\n",
    "print(param_grid)"
   ]
  },
  {
   "cell_type": "code",
   "execution_count": 13,
   "id": "d1b10977",
   "metadata": {},
   "outputs": [],
   "source": [
    "# Create a classifier\n",
    "clf = RandomForestClassifier(random_state=42)"
   ]
  },
  {
   "cell_type": "code",
   "execution_count": 14,
   "id": "af429ac6",
   "metadata": {},
   "outputs": [],
   "source": [
    "# Create a GridSearchCV named model that includes your classifier and hyperparameter grid.\n",
    "\n",
    "model = GridSearchCV(\n",
    "    clf,\n",
    "    param_grid=param_grid,\n",
    "    cv=5,\n",
    "    n_jobs=-1,\n",
    "    verbose=1\n",
    ")"
   ]
  },
  {
   "cell_type": "code",
   "execution_count": 15,
   "id": "2eca4a71",
   "metadata": {},
   "outputs": [
    {
     "name": "stdout",
     "output_type": "stream",
     "text": [
      "Fitting 5 folds for each of 320 candidates, totalling 1600 fits\n"
     ]
    },
    {
     "name": "stderr",
     "output_type": "stream",
     "text": [
      "C:\\Users\\USER\\anaconda3\\lib\\site-packages\\sklearn\\ensemble\\_forest.py:427: FutureWarning: `max_features='auto'` has been deprecated in 1.1 and will be removed in 1.3. To keep the past behaviour, explicitly set `max_features='sqrt'` or remove this parameter as it is also the default value for RandomForestClassifiers and ExtraTreesClassifiers.\n",
      "  warn(\n"
     ]
    },
    {
     "data": {
      "text/html": [
       "<style>#sk-container-id-1 {color: black;background-color: white;}#sk-container-id-1 pre{padding: 0;}#sk-container-id-1 div.sk-toggleable {background-color: white;}#sk-container-id-1 label.sk-toggleable__label {cursor: pointer;display: block;width: 100%;margin-bottom: 0;padding: 0.3em;box-sizing: border-box;text-align: center;}#sk-container-id-1 label.sk-toggleable__label-arrow:before {content: \"▸\";float: left;margin-right: 0.25em;color: #696969;}#sk-container-id-1 label.sk-toggleable__label-arrow:hover:before {color: black;}#sk-container-id-1 div.sk-estimator:hover label.sk-toggleable__label-arrow:before {color: black;}#sk-container-id-1 div.sk-toggleable__content {max-height: 0;max-width: 0;overflow: hidden;text-align: left;background-color: #f0f8ff;}#sk-container-id-1 div.sk-toggleable__content pre {margin: 0.2em;color: black;border-radius: 0.25em;background-color: #f0f8ff;}#sk-container-id-1 input.sk-toggleable__control:checked~div.sk-toggleable__content {max-height: 200px;max-width: 100%;overflow: auto;}#sk-container-id-1 input.sk-toggleable__control:checked~label.sk-toggleable__label-arrow:before {content: \"▾\";}#sk-container-id-1 div.sk-estimator input.sk-toggleable__control:checked~label.sk-toggleable__label {background-color: #d4ebff;}#sk-container-id-1 div.sk-label input.sk-toggleable__control:checked~label.sk-toggleable__label {background-color: #d4ebff;}#sk-container-id-1 input.sk-hidden--visually {border: 0;clip: rect(1px 1px 1px 1px);clip: rect(1px, 1px, 1px, 1px);height: 1px;margin: -1px;overflow: hidden;padding: 0;position: absolute;width: 1px;}#sk-container-id-1 div.sk-estimator {font-family: monospace;background-color: #f0f8ff;border: 1px dotted black;border-radius: 0.25em;box-sizing: border-box;margin-bottom: 0.5em;}#sk-container-id-1 div.sk-estimator:hover {background-color: #d4ebff;}#sk-container-id-1 div.sk-parallel-item::after {content: \"\";width: 100%;border-bottom: 1px solid gray;flex-grow: 1;}#sk-container-id-1 div.sk-label:hover label.sk-toggleable__label {background-color: #d4ebff;}#sk-container-id-1 div.sk-serial::before {content: \"\";position: absolute;border-left: 1px solid gray;box-sizing: border-box;top: 0;bottom: 0;left: 50%;z-index: 0;}#sk-container-id-1 div.sk-serial {display: flex;flex-direction: column;align-items: center;background-color: white;padding-right: 0.2em;padding-left: 0.2em;position: relative;}#sk-container-id-1 div.sk-item {position: relative;z-index: 1;}#sk-container-id-1 div.sk-parallel {display: flex;align-items: stretch;justify-content: center;background-color: white;position: relative;}#sk-container-id-1 div.sk-item::before, #sk-container-id-1 div.sk-parallel-item::before {content: \"\";position: absolute;border-left: 1px solid gray;box-sizing: border-box;top: 0;bottom: 0;left: 50%;z-index: -1;}#sk-container-id-1 div.sk-parallel-item {display: flex;flex-direction: column;z-index: 1;position: relative;background-color: white;}#sk-container-id-1 div.sk-parallel-item:first-child::after {align-self: flex-end;width: 50%;}#sk-container-id-1 div.sk-parallel-item:last-child::after {align-self: flex-start;width: 50%;}#sk-container-id-1 div.sk-parallel-item:only-child::after {width: 0;}#sk-container-id-1 div.sk-dashed-wrapped {border: 1px dashed gray;margin: 0 0.4em 0.5em 0.4em;box-sizing: border-box;padding-bottom: 0.4em;background-color: white;}#sk-container-id-1 div.sk-label label {font-family: monospace;font-weight: bold;display: inline-block;line-height: 1.2em;}#sk-container-id-1 div.sk-label-container {text-align: center;}#sk-container-id-1 div.sk-container {/* jupyter's `normalize.less` sets `[hidden] { display: none; }` but bootstrap.min.css set `[hidden] { display: none !important; }` so we also need the `!important` here to be able to override the default hidden behavior on the sphinx rendered scikit-learn.org. See: https://github.com/scikit-learn/scikit-learn/issues/21755 */display: inline-block !important;position: relative;}#sk-container-id-1 div.sk-text-repr-fallback {display: none;}</style><div id=\"sk-container-id-1\" class=\"sk-top-container\"><div class=\"sk-text-repr-fallback\"><pre>GridSearchCV(cv=5, estimator=RandomForestClassifier(random_state=42), n_jobs=-1,\n",
       "             param_grid={&#x27;bootstrap&#x27;: [True, False], &#x27;max_depth&#x27;: [2, 4],\n",
       "                         &#x27;max_features&#x27;: [&#x27;auto&#x27;, &#x27;sqrt&#x27;],\n",
       "                         &#x27;min_samples_leaf&#x27;: [1, 2],\n",
       "                         &#x27;min_samples_split&#x27;: [2, 5],\n",
       "                         &#x27;n_estimators&#x27;: [10, 17, 25, 33, 41, 48, 56, 64, 72,\n",
       "                                          80]},\n",
       "             verbose=1)</pre><b>In a Jupyter environment, please rerun this cell to show the HTML representation or trust the notebook. <br />On GitHub, the HTML representation is unable to render, please try loading this page with nbviewer.org.</b></div><div class=\"sk-container\" hidden><div class=\"sk-item sk-dashed-wrapped\"><div class=\"sk-label-container\"><div class=\"sk-label sk-toggleable\"><input class=\"sk-toggleable__control sk-hidden--visually\" id=\"sk-estimator-id-1\" type=\"checkbox\" ><label for=\"sk-estimator-id-1\" class=\"sk-toggleable__label sk-toggleable__label-arrow\">GridSearchCV</label><div class=\"sk-toggleable__content\"><pre>GridSearchCV(cv=5, estimator=RandomForestClassifier(random_state=42), n_jobs=-1,\n",
       "             param_grid={&#x27;bootstrap&#x27;: [True, False], &#x27;max_depth&#x27;: [2, 4],\n",
       "                         &#x27;max_features&#x27;: [&#x27;auto&#x27;, &#x27;sqrt&#x27;],\n",
       "                         &#x27;min_samples_leaf&#x27;: [1, 2],\n",
       "                         &#x27;min_samples_split&#x27;: [2, 5],\n",
       "                         &#x27;n_estimators&#x27;: [10, 17, 25, 33, 41, 48, 56, 64, 72,\n",
       "                                          80]},\n",
       "             verbose=1)</pre></div></div></div><div class=\"sk-parallel\"><div class=\"sk-parallel-item\"><div class=\"sk-item\"><div class=\"sk-label-container\"><div class=\"sk-label sk-toggleable\"><input class=\"sk-toggleable__control sk-hidden--visually\" id=\"sk-estimator-id-2\" type=\"checkbox\" ><label for=\"sk-estimator-id-2\" class=\"sk-toggleable__label sk-toggleable__label-arrow\">estimator: RandomForestClassifier</label><div class=\"sk-toggleable__content\"><pre>RandomForestClassifier(random_state=42)</pre></div></div></div><div class=\"sk-serial\"><div class=\"sk-item\"><div class=\"sk-estimator sk-toggleable\"><input class=\"sk-toggleable__control sk-hidden--visually\" id=\"sk-estimator-id-3\" type=\"checkbox\" ><label for=\"sk-estimator-id-3\" class=\"sk-toggleable__label sk-toggleable__label-arrow\">RandomForestClassifier</label><div class=\"sk-toggleable__content\"><pre>RandomForestClassifier(random_state=42)</pre></div></div></div></div></div></div></div></div></div></div>"
      ],
      "text/plain": [
       "GridSearchCV(cv=5, estimator=RandomForestClassifier(random_state=42), n_jobs=-1,\n",
       "             param_grid={'bootstrap': [True, False], 'max_depth': [2, 4],\n",
       "                         'max_features': ['auto', 'sqrt'],\n",
       "                         'min_samples_leaf': [1, 2],\n",
       "                         'min_samples_split': [2, 5],\n",
       "                         'n_estimators': [10, 17, 25, 33, 41, 48, 56, 64, 72,\n",
       "                                          80]},\n",
       "             verbose=1)"
      ]
     },
     "execution_count": 15,
     "metadata": {},
     "output_type": "execute_result"
    }
   ],
   "source": [
    "# Fit model\n",
    "\n",
    "model.fit(X_train, y_train)"
   ]
  },
  {
   "cell_type": "markdown",
   "id": "dae482e6",
   "metadata": {},
   "source": [
    "### 3.3 Predict and evaluate"
   ]
  },
  {
   "cell_type": "code",
   "execution_count": 16,
   "id": "9bb75f3b",
   "metadata": {},
   "outputs": [
    {
     "data": {
      "text/plain": [
       "0.71"
      ]
     },
     "execution_count": 16,
     "metadata": {},
     "output_type": "execute_result"
    }
   ],
   "source": [
    "# Make predictions\n",
    "predictions = model.predict(X_test)\n",
    "score = accuracy_score(y_test, predictions)\n",
    "score"
   ]
  },
  {
   "cell_type": "markdown",
   "id": "0469d0e1",
   "metadata": {},
   "source": [
    "### 3.4 Save model"
   ]
  },
  {
   "cell_type": "code",
   "execution_count": 18,
   "id": "a0a51d9f",
   "metadata": {},
   "outputs": [],
   "source": [
    "# Save model\n",
    "with open(\"model-diabetes_prediction.pkl\", 'wb') as f:\n",
    "    pickle.dump(model,f)"
   ]
  },
  {
   "cell_type": "markdown",
   "id": "90a642ca",
   "metadata": {},
   "source": [
    "<div id='conclusions'></div>\n",
    "\n",
    "## 4. Conclussion"
   ]
  },
  {
   "cell_type": "markdown",
   "id": "3cad43b3",
   "metadata": {},
   "source": [
    "Based on the accuracy score, the model has predicted 71% accurately. Despite this score, the model can still be further fine tuned for better performance."
   ]
  },
  {
   "cell_type": "markdown",
   "id": "b2d87570",
   "metadata": {},
   "source": [
    "<div id='ref'></div>\n",
    "\n",
    "## 5. References"
   ]
  },
  {
   "cell_type": "markdown",
   "id": "0c3d281f",
   "metadata": {},
   "source": [
    "1. kaggle website\n",
    "2. Documentations of pandas, matplotlib, and sklearn."
   ]
  }
 ],
 "metadata": {
  "kernelspec": {
   "display_name": "Python 3 (ipykernel)",
   "language": "python",
   "name": "python3"
  },
  "language_info": {
   "codemirror_mode": {
    "name": "ipython",
    "version": 3
   },
   "file_extension": ".py",
   "mimetype": "text/x-python",
   "name": "python",
   "nbconvert_exporter": "python",
   "pygments_lexer": "ipython3",
   "version": "3.9.7"
  }
 },
 "nbformat": 4,
 "nbformat_minor": 5
}
